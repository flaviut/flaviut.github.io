{
 "cells": [
  {
   "cell_type": "markdown",
   "metadata": {},
   "source": [
    "Embedded systems these days frequently need to serve up HTML pages, but in most cases, both the processor and the network interfaces are very slow. It's important to find the right balance of gzip compression ratio to reduce the page load time of these devices, with the goal being to minimize the total amount of time from when the request is made to when the response is fully recieved.\n",
    "\n",
    "## gzip Performance\n",
    "\n",
    "The first step is to figure out exactly how slow gzip is on the desired processor.\n",
    "\n",
    "The following script is used to fetch performance data at varying levels of performance. It uses `./test.html` as the document to test with, and you'll likely want to change `exec_count` depending on your processor.\n",
    "\n",
    "```python\n",
    "from __future__ import print_function\n",
    "from timeit import timeit\n",
    "import io, gzip\n",
    "\n",
    "\n",
    "def compress(data, level):\n",
    "    output = io.BytesIO()\n",
    "    gzip.GzipFile(mode=\"wb\", fileobj=output, compresslevel=level).write(data)\n",
    "    return output.tell()\n",
    "\n",
    "\n",
    "def load_example():\n",
    "    with open(\"./test.html\", \"r\") as f:\n",
    "        content = f.read()\n",
    "        try:\n",
    "            return content.encode(\"utf8\")\n",
    "        except UnicodeDecodeError:\n",
    "            return content\n",
    "\n",
    "\n",
    "data = load_example()\n",
    "exec_count = 20\n",
    "print(\"compression level, time (ms), compressed size (kiB)\")\n",
    "for level in range(0, 10):\n",
    "    test_fun = lambda: compress(data, level=level)\n",
    "    time = timeit(test_fun, number=exec_count)\n",
    "    size = test_fun()\n",
    "    print(str((level, time / float(exec_count) * 1000, size / 1024.0)) + \",\")\n",
    "```"
   ]
  },
  {
   "cell_type": "code",
   "execution_count": null,
   "metadata": {},
   "outputs": [],
   "source": [
    "import pandas as pd\n",
    "%config InlineBackend.figure_formats = ['svg']\n",
    "import matplotlib.pyplot as plt\n",
    "%matplotlib inline"
   ]
  },
  {
   "cell_type": "code",
   "execution_count": null,
   "metadata": {},
   "outputs": [],
   "source": [
    "orange_pi_zero = pd.DataFrame([\n",
    "    (0, 11.398696899414062, 403.4951171875),\n",
    "    (1, 30.363094806671143, 87.796875),\n",
    "    (2, 31.992197036743164, 83.490234375),\n",
    "    (3, 35.304808616638184, 79.7978515625),\n",
    "    (4, 45.820748805999756, 74.3955078125),\n",
    "    (5, 56.08339309692383, 70.9033203125),\n",
    "    (6, 70.80044746398926, 68.8701171875),\n",
    "    (7, 80.49700260162354, 68.52734375),\n",
    "    (8, 111.0435962677002, 68.2294921875),\n",
    "    (9, 160.21054983139038, 68.1083984375),\n",
    "], columns=['level', 'time_ms', 'size_kiby']\n",
    ").set_index('level')\n",
    "\n",
    "ryzen_2700x = pd.DataFrame([\n",
    "    (0, 0.6599545478820801, 403.4951171875),\n",
    "    (1, 3.2829999923706055, 87.796875),\n",
    "    (2, 2.991056442260742, 83.490234375),\n",
    "    (3, 3.4702062606811523, 79.7978515625),\n",
    "    (4, 4.487097263336182, 74.3955078125),\n",
    "    (5, 5.750846862792969, 70.9033203125),\n",
    "    (6, 7.645905017852783, 68.8701171875),\n",
    "    (7, 8.826696872711182, 68.52734375),\n",
    "    (8, 12.513351440429688, 68.2294921875),\n",
    "    (9, 18.452298641204834, 68.1083984375),\n",
    "], columns=['level', 'time_ms', 'size_kiby']\n",
    ").set_index('level')"
   ]
  },
  {
   "cell_type": "code",
   "execution_count": null,
   "metadata": {},
   "outputs": [],
   "source": [
    "def add_stat_cols(df):\n",
    "    return df.assign(compression_ratio=lambda df: df.size_kiby / df.size_kiby[0],\n",
    "                     slowdown=lambda df: df.time_ms / df.time_ms[0])\n",
    "\n",
    "orange_pi_zero = add_stat_cols(orange_pi_zero)\n",
    "ryzen_2700x = add_stat_cols(ryzen_2700x)\n",
    "\n",
    "orange_pi_zero"
   ]
  },
  {
   "cell_type": "code",
   "execution_count": null,
   "metadata": {},
   "outputs": [],
   "source": [
    "fig, ax = plt.subplots()\n",
    "\n",
    "ax.set_ylabel('Compression Ratio')\n",
    "ax.set_xlabel('Compression Duration (ms)')\n",
    "ax.set_title('Compression Ratio vs Duration')\n",
    "\n",
    "for label, data in [('Orange Pi Zero', orange_pi_zero), ('Ryzen 2700X', ryzen_2700x)]:\n",
    "    ax.scatter(data.time_ms[1:], data.compression_ratio[1:], label=label)\n",
    "ax.grid()\n",
    "ax.legend()\n",
    "    \n",
    "plt.show()"
   ]
  },
  {
   "cell_type": "markdown",
   "metadata": {},
   "source": [
    "## Network Performance\n",
    "\n",
    "Now that we've figured out how long gzip takes us, we need to understand the performance of the board. One nice way to do that is by running `iperf3 -c <hardwired pc ip>` on the client device and `iperf3 -s` on a wired PC. It's probably a good idea to try this out at various times of the day and with various physical configurations of the board and the access point.\n",
    "\n",
    "Fortunately, if you don't want to do this, tkaiser has done lots of this work for us at https://forum.armbian.com/topic/3739-wi-fi-performance-and-known-issues-on-sbc/. I've used this forum topic as my reference for `typical_networks_kbps`."
   ]
  },
  {
   "cell_type": "code",
   "execution_count": null,
   "metadata": {},
   "outputs": [],
   "source": [
    "def calculate_total_time_ms(level, network_speed_kbps):\n",
    "    compressed_kbits = data.size_kiby[level] * 8\n",
    "    network_speed_kbpms = network_speed_kbps / 1000.0\n",
    "    compression_time_ms = data.time_ms[level]\n",
    "    return compressed_kbits / network_speed_kbpms + compression_time_ms\n",
    "\n",
    "typical_networks_kbps = {\n",
    "    'crappy wifi': 6_000,\n",
    "    'ok wifi': 24_000,\n",
    "    'good wifi': 50_000,\n",
    "    'gigabit ethernet': 1_000_000\n",
    "}\n",
    "\n",
    "total_transfer_times = pd.DataFrame({\n",
    "    name: [calculate_total_time_ms(level, speed_kbps)\n",
    "           for level in range(0, 10)]\n",
    "    for name, speed_kbps in typical_networks_kbps.items()\n",
    "})\n",
    "total_transfer_times"
   ]
  },
  {
   "cell_type": "code",
   "execution_count": null,
   "metadata": {},
   "outputs": [],
   "source": [
    "total_transfer_time_improvement = pd.DataFrame({\n",
    "    network_type:\n",
    "        total_transfer_times[network_type] / total_transfer_times[network_type][0]\n",
    "    for network_type in total_transfer_times\n",
    "})\n",
    "\n",
    "total_transfer_time_improvement"
   ]
  },
  {
   "cell_type": "code",
   "execution_count": null,
   "metadata": {},
   "outputs": [],
   "source": [
    "fig, ax = plt.subplots()\n",
    "\n",
    "ax.set_ylabel('Compression + Transfer Time (ms)')\n",
    "ax.set_xlabel('gzip Level')\n",
    "ax.set_title('Effect of compression level on request time')\n",
    "\n",
    "for network_type in total_transfer_times:\n",
    "    ax.scatter(total_transfer_times.index, total_transfer_times[network_type], label=network_type)\n",
    "\n",
    "ax.set_yscale('log')\n",
    "ax.grid()\n",
    "ax.legend()\n",
    "    \n",
    "plt.show()"
   ]
  },
  {
   "cell_type": "code",
   "execution_count": null,
   "metadata": {},
   "outputs": [],
   "source": [
    "fig, (ax1, ax2) = plt.subplots(2, 1, sharex=True)\n",
    "\n",
    "ax.set_ylabel('Compression + Transfer Time (ms)')\n",
    "ax2.set_xlabel('gzip Level')\n",
    "ax1.set_title('Effect of compression level on request time')\n",
    "\n",
    "for network_type in total_transfer_time_improvement:\n",
    "    for ax in [ax1, ax2]:\n",
    "        ax.scatter(total_transfer_time_improvement.index,\n",
    "                   total_transfer_time_improvement[network_type], label=network_type)\n",
    "\n",
    "ax1.set_ylim(0.9, 0.9 + .25)\n",
    "ax2.set_ylim(0.15, 0.15 + .25)\n",
    "ax1.grid()\n",
    "ax1.legend()\n",
    "ax2.grid()\n",
    "ax1.spines['bottom'].set_visible(False)\n",
    "ax2.spines['top'].set_visible(False)\n",
    "ax1.xaxis.tick_top()\n",
    "ax1.tick_params(labeltop=False)  # don't put tick labels at the top\n",
    "ax2.xaxis.tick_bottom()\n",
    "    \n",
    "plt.show()"
   ]
  },
  {
   "cell_type": "markdown",
   "metadata": {},
   "source": [
    "## Conclusion\n",
    "\n",
    "It's fairly clear that no matter what you do, the network won't be the bottleneck when using gigabit ethernet.\n",
    "\n",
    "However, it seems like the performance sweet-spot for the type of slow wifi links frequently found in these SBCs is around gzip level 4. There's a fairly strong knee in the speed of gzip at that point, even on a desktop CPU.\n",
    "\n",
    "### Other Algorithms\n",
    "\n",
    "Brotli is the only other compression algorithm widely supported by browsers, but its compression ratio is much worse, which makes it unsuitiable for on-the-fly compression on low-end hardware.\n",
    "\n",
    "It looks like the people behind zstd are looking to add it to browsers. When it's widely supported, this will likely beat gzip in this application, or at the very least allow for more fine-grained tuning of the compression ratio."
   ]
  }
 ],
 "metadata": {
  "kernelspec": {
   "display_name": "Python 3",
   "language": "python",
   "name": "python3"
  },
  "language_info": {
   "codemirror_mode": {
    "name": "ipython",
    "version": 3
   },
   "file_extension": ".py",
   "mimetype": "text/x-python",
   "name": "python",
   "nbconvert_exporter": "python",
   "pygments_lexer": "ipython3",
   "version": "3.8.2"
  }
 },
 "nbformat": 4,
 "nbformat_minor": 2
}
